{
 "cells": [
  {
   "cell_type": "code",
   "execution_count": 1,
   "metadata": {},
   "outputs": [],
   "source": [
    "#Load libraries\n",
    "\n",
    "import nltk\n",
    "from nltk.corpus import treebank \n",
    "from nltk import load_parser\n",
    "from nltk.chunk import tree2conlltags\n",
    "from nltk.corpus import names\n",
    "import random\n",
    "parserdrt = load_parser('grammar.fcfg', logic_parser=nltk.sem.drt.DrtParser())\n",
    "expr_read = nltk.sem.DrtExpression.fromstring\n",
    "from IPython.core.display import display, HTML"
   ]
  },
  {
   "cell_type": "code",
   "execution_count": 2,
   "metadata": {},
   "outputs": [],
   "source": [
    "#Pronoun Lists\n",
    "\n",
    "male_sin_sub = ['he','i','you']\n",
    "male_sin_obj = ['him','me','you']\n",
    "nongender = [\"it\"]\n",
    "female_sin_sub =['she','i','you']\n",
    "female_sin_obj =['her','me','you']"
   ]
  },
  {
   "cell_type": "code",
   "execution_count": 3,
   "metadata": {},
   "outputs": [],
   "source": [
    "# coNll tagging for tokens\n",
    "\n",
    "def sentTokenize(sentence):\n",
    "    #print(tree2conlltags(nltk.ne_chunk(nltk.pos_tag(nltk.word_tokenize(sentence[0])), binary=False)))\n",
    "    return tree2conlltags(nltk.ne_chunk(nltk.pos_tag(nltk.word_tokenize(sentence)), binary=False))"
   ]
  },
  {
   "cell_type": "code",
   "execution_count": 4,
   "metadata": {},
   "outputs": [],
   "source": [
    "#ML method to identify gender\n",
    "\n",
    "def genderFeature(name):\n",
    "    return {'last(1)' : name[-1]}\n",
    "\n",
    "males = [(name, 'male') for name in names.words('male.txt')]\n",
    "females = [(name, 'female') for name in names.words('female.txt')]\n",
    "combined_gender = males + females\n",
    "random.shuffle(combined_gender)\n",
    "training = [(genderFeature(name), gender) for (name, gender) in combined_gender]\n",
    "classifier = nltk.NaiveBayesClassifier.train(training)\n",
    "\n",
    "\n",
    "def genderClassifier(name):\n",
    "    return classifier.classify(genderFeature(name))\n"
   ]
  },
  {
   "cell_type": "code",
   "execution_count": 5,
   "metadata": {},
   "outputs": [],
   "source": [
    "#calculates distance between the discourses and pronouns\n",
    "\n",
    "def findNdist(sentence,src):\n",
    "    prpind = []\n",
    "    nound = None\n",
    "    try :\n",
    "        for i,item in enumerate(sentTokenize(sentence)):\n",
    "            #print(i,item)\n",
    "            if src.lower() == item[0].lower() and item[1] in ['NNP','NN']:\n",
    "                nound = i\n",
    "            if item[1] in ['PRP','PRP$'] :\n",
    "                prpind.append((item[0],i))\n",
    "        return list(map(lambda prp: \"distfrom-{}-{}\".format(prp[0],abs(prp[1]-nound)),prpind))\n",
    "        #return {'distance':list(map(lambda prp: (prp[0],abs(prp[1]-nound)),prpind))}\n",
    "    except:\n",
    "        return []\n",
    "        #return {'distance':[]}\n"
   ]
  },
  {
   "cell_type": "code",
   "execution_count": 6,
   "metadata": {},
   "outputs": [],
   "source": [
    "# Fetch Gender from DRS\n",
    "\n",
    "def getGender(drsEntityDict,text,src):\n",
    "    for ky in drsEntityDict.keys():\n",
    "        for ft in sentTokenize(text):\n",
    "            if drsEntityDict[ky][0].lower() == ft[0].lower() == src :\n",
    "                return drsEntityDict[ky][1].lower()\n",
    "            "
   ]
  },
  {
   "cell_type": "code",
   "execution_count": 7,
   "metadata": {},
   "outputs": [],
   "source": [
    "# Convert from DRS to String to extract features\n",
    "\n",
    "def drstoStr(drstext):\n",
    "    return str(drstext.simplify().resolve_anaphora())\n"
   ]
  },
  {
   "cell_type": "code",
   "execution_count": 8,
   "metadata": {},
   "outputs": [],
   "source": [
    "# extract discoureses from string converted DRS\n",
    "\n",
    "def drsExtract(fdrsextract):\n",
    "    drsvariables = fdrsextract[fdrsextract.find(\"[\")+1:fdrsextract.find(\"]\")]\n",
    "    drsfunctionslist = fdrsextract[fdrsextract.find(\"[\",2)+1:fdrsextract.rfind(\"]\")]\n",
    "    return (drsvariables,drsfunctionslist)\n",
    "\n"
   ]
  },
  {
   "cell_type": "code",
   "execution_count": 9,
   "metadata": {},
   "outputs": [],
   "source": [
    "#Extract entities from DRS\n",
    "\n",
    "def getEntities(drsfunctionslist):\n",
    "    \n",
    "    pronounequality = list(filter(lambda _: \"=\" in _,drsfunctionslist.split(\", \")))\n",
    "    def pronouneqExtract(ent):\n",
    "        return ent[ent.find(\"[\")+1:ent.find(\"]\")].split(\",\")\n",
    "\n",
    "    def pronounsEx(pronounEnt):\n",
    "        return pronounEnt[pronounEnt.find(\"(\")+1:pronounEnt.find(\"=\")-1]\n",
    "    \n",
    "    matchedEntities = [pronouneqExtract(ent) for ent in pronounequality]\n",
    "    pronounEntity = [pronounsEx(pronounEnt) for pronounEnt in pronounequality]\n",
    "    \n",
    "    return (matchedEntities,pronounEntity)\n",
    "\n",
    "\n"
   ]
  },
  {
   "cell_type": "code",
   "execution_count": 10,
   "metadata": {},
   "outputs": [],
   "source": [
    "# Create dictionary to store DRS features \n",
    "\n",
    "def getDRSEntityDict(matchedEntities,pronounEntity,drsfunctionslist):\n",
    "    combinedElements = matchedEntities + [pronounEntity]\n",
    "    flatten = list(set([elements for subElements in combinedElements for elements in subElements])) \n",
    "    drsEntityDict = {}\n",
    "    #for i in range(len(matchedEntities)):\n",
    "    for en in flatten:\n",
    "        drsEntityDict[en] = [x[0:x.find(\"(\")] for x in drsfunctionslist.split(\", \") \\\n",
    "                             if en == x[x.find(\"(\")+1:x.find(\")\")] or en == x[x.find(\"(\")+1:x.find(\",\")]]\n",
    "    \n",
    "    return drsEntityDict"
   ]
  },
  {
   "cell_type": "code",
   "execution_count": 11,
   "metadata": {},
   "outputs": [],
   "source": [
    "#remove empty dictinary elements\n",
    "\n",
    "def remove_empty_keys(drsEntityDict):\n",
    "    for k in drsEntityDict.keys():\n",
    "        if not drsEntityDict[k]:\n",
    "            del drsEntityDict[k]"
   ]
  },
  {
   "cell_type": "code",
   "execution_count": 12,
   "metadata": {},
   "outputs": [],
   "source": [
    "# append the feature to dictionary\n",
    "\n",
    "def appendToDRSDict(sentence):\n",
    "    stack = []\n",
    "    for item in sentTokenize(sentence):\n",
    "        if item[1] == 'NNP' and (item[2] == 'B-PERSON' or item[2] == 'O' or item[2] == 'B-GPE'):\n",
    "            stack.append([item[0],[item[1],item[2]]+findNdist(sentence,item[0])])\n",
    "        elif item[1] == 'NN':\n",
    "            stack.append([item[0],[item[1],item[2]]+findNdist(sentence,item[0])])\n",
    "        elif item[1] == 'CC':\n",
    "            stack.append([item[0],[item[1],item[2]]])\n",
    "        elif item[1] == 'PRP':\n",
    "            stack.append([item[0],[item[1],item[2]]])\n",
    "        \n",
    "    return stack"
   ]
  },
  {
   "cell_type": "code",
   "execution_count": 13,
   "metadata": {},
   "outputs": [],
   "source": [
    "# Add more features to dictionary\n",
    "\n",
    "\n",
    "def extendToDRSDict(stack,drsEntityDict):\n",
    "    tempEntityDict = drsEntityDict\n",
    "    #print(tempEntityDict)\n",
    "    for key in tempEntityDict.keys():        \n",
    "        for stackElement in stack:\n",
    "            if tempEntityDict[key][0].lower() == stackElement[0].lower() and len(tempEntityDict[key])>=1:\n",
    "                tempEntityDict[key].extend(stackElement[1])\n",
    "        \"\"\"        \n",
    "        tempEntityDict[key].extend([x[1] for x in stack if tempEntityDict[key][0].lower() == x[0].\\\n",
    "                                   lower() and len(tempEntityDict[key])>1][0])\n",
    "        \"\"\"\n",
    "    return tempEntityDict\n"
   ]
  },
  {
   "cell_type": "code",
   "execution_count": 14,
   "metadata": {},
   "outputs": [],
   "source": [
    "# method to resolve anaphora\n",
    "\n",
    "def resolveDRSAnaphora(drsEntityDict,text):\n",
    "    resolvestack = []\n",
    "    for k in drsEntityDict.keys():\n",
    "        properties = [elements.lower() for elements in drsEntityDict[k]]\n",
    "        if set(['nn','nnp','b-gpe','b-person']).intersection(set(properties)) \\\n",
    "                    and set(['male','female']).intersection(set(properties)):\n",
    "            \n",
    "            distanceNNP = list(filter(lambda x : x.startswith('distfrom'),drsEntityDict[k]))\n",
    "            for dist in distanceNNP:\n",
    "                if dist.split(\"-\")[1].lower() in male_sin_sub:\n",
    "                    resolvestack.append((properties[0],dist.split(\"-\")[1].lower()))\n",
    "                    \n",
    "                elif dist.split(\"-\")[1].lower() in male_sin_obj:\n",
    "                    resolvestack.append((properties[0],dist.split(\"-\")[1].lower()))\n",
    "            \n",
    "                elif dist.split(\"-\")[1].lower() in female_sin_sub:\n",
    "                    resolvestack.append((properties[0],dist.split(\"-\")[1].lower()))\n",
    "             \n",
    "                elif dist.split(\"-\")[1].lower() in female_sin_obj:\n",
    "                    resolvestack.append((properties[0],dist.split(\"-\")[1].lower()))\n",
    "                    \n",
    "        \n",
    "        elif set(['nn','o']).intersection(set(properties)) \\\n",
    "                    and set(['nongender']).intersection(set(properties)):\n",
    "            distanceNNP = list(filter(lambda x : x.startswith('distfrom'),drsEntityDict[k]))\n",
    "            for dist in distanceNNP:\n",
    "                if dist.split(\"-\")[1].lower() in nongender:\n",
    "                    resolvestack.append((properties[0],dist.split(\"-\")[1].lower()))\n",
    "                    \n",
    "    #print(resolvestack) \n",
    "    newresolveStack =[]\n",
    "    for x in resolvestack:\n",
    "        if getGender(drsEntityDict,text,x[0]) == 'male' and (x[1] in male_sin_sub or x[1] in male_sin_obj):\n",
    "            newresolveStack.append(x)\n",
    "        elif getGender(drsEntityDict,text,x[0]) == 'female' and (x[1] in female_sin_sub or x[1] in female_sin_obj):\n",
    "            newresolveStack.append(x)\n",
    "        elif getGender(drsEntityDict,text,x[0]) == 'nongender' and (x[1] in nongender):\n",
    "            newresolveStack.append(x)\n",
    "            \n",
    "    return newresolveStack   \n",
    "    "
   ]
  },
  {
   "cell_type": "code",
   "execution_count": 15,
   "metadata": {},
   "outputs": [],
   "source": [
    "#Graphical output method\n",
    "\n",
    "def outputUI(resolveStack,text):\n",
    "    colorStack = ['#158467','#d54062','#56556e','#318fb5','#cdb30c','#f6ab6c','#84a9ac','#99b898','#fa7d09','#96bb7c','#ff9c71']\n",
    "    dictOutput = {}\n",
    "    for tup in resolveStack:\n",
    "        if len(dictOutput)==0 or tup[1] not in dictOutput.keys():\n",
    "            dictOutput[tup[1]] = [tup[0]]\n",
    "        elif tup[1] in dictOutput.keys():\n",
    "            dictOutput[tup[1]].append(tup[0])\n",
    "\n",
    "    for i,key in enumerate(dictOutput.keys()):\n",
    "        dictOutput[key].append(colorStack[i])\n",
    "\n",
    "    htmlStack = text.split()\n",
    "    for i,tkn in enumerate(htmlStack):\n",
    "        for key in dictOutput.keys():\n",
    "            if tkn == key or tkn in dictOutput[key]:\n",
    "                htmlStack[i] = '<span style=\"background-color:'+dictOutput[key][-1]+'\">'+tkn+\"</span>\"\n",
    "    \n",
    "\n",
    "    return display(HTML('<h3>'+\" \".join(htmlStack)+'</h3>'))"
   ]
  },
  {
   "cell_type": "code",
   "execution_count": 16,
   "metadata": {},
   "outputs": [],
   "source": [
    "def main(drstext):\n",
    "    fdrsextract = drstoStr(drstext)\n",
    "    #print(fdrsextract)\n",
    "\n",
    "    drsvariables,drsfunctionslist = drsExtract(fdrsextract)\n",
    "\n",
    "    #print(drsvariables)\n",
    "    #print(drsfunctionslist)\n",
    "\n",
    "    matchedEntities,pronounEntity = getEntities(drsfunctionslist)\n",
    "    #print(matchedEntities)\n",
    "    #print(pronounEntity)\n",
    "    \n",
    "    drsEntityDict = getDRSEntityDict(matchedEntities,pronounEntity,drsfunctionslist)\n",
    "    #print(drsEntityDict)\n",
    "    #print()\n",
    "    \n",
    "    stack=appendToDRSDict(text)\n",
    "    #print(stack)\n",
    "    #print()\n",
    "\n",
    "    drsEntityDict = extendToDRSDict(stack,drsEntityDict)\n",
    "    #print(drsEntityDict)\n",
    "\n",
    "    resolveStack = resolveDRSAnaphora(drsEntityDict,text)\n",
    "     \n",
    "\n",
    "    #print(resolveStack) \n",
    "    print(text)\n",
    "    print()\n",
    "    print(\"Resolved = {}\".format(resolveStack))\n",
    "    outputui = outputUI(resolveStack,text)\n",
    "    #print(outputui)"
   ]
  },
  {
   "cell_type": "code",
   "execution_count": 17,
   "metadata": {},
   "outputs": [
    {
     "name": "stdout",
     "output_type": "stream",
     "text": [
      "john met elisa in barista. she asked him to order a pizza\n",
      "\n",
      "Resolved = [('elisa', 'she'), ('john', 'him')]\n"
     ]
    },
    {
     "data": {
      "text/html": [
       "<h3><span style=\"background-color:#d54062\">john</span> met <span style=\"background-color:#158467\">elisa</span> in barista. <span style=\"background-color:#158467\">she</span> asked <span style=\"background-color:#d54062\">him</span> to order a pizza</h3>"
      ],
      "text/plain": [
       "<IPython.core.display.HTML object>"
      ]
     },
     "metadata": {},
     "output_type": "display_data"
    }
   ],
   "source": [
    "text = \"John met elisa in Barista. She asked him to order a Pizza\".lower()\n",
    "drstxt = '([x,y,z1,u,v],[John(x),MALE(x),Elisa(y),FEMALE(y),met(x,y),SHE(u),HIM(v),PRO(u),PRO(v),ask(u,v),order(u,v),pizza(z1)])'\n",
    "drstext = expr_read(drstxt)\n",
    "#print(drstext.simplify().resolve_anaphora())\n",
    "drstext.draw()\n",
    "main(drstext)"
   ]
  },
  {
   "cell_type": "code",
   "execution_count": 18,
   "metadata": {},
   "outputs": [
    {
     "name": "stdout",
     "output_type": "stream",
     "text": [
      "jason built jack a robot , and he gave it to him .\n",
      "\n",
      "Resolved = [('jack', 'he'), ('jack', 'him'), ('jason', 'he'), ('jason', 'him'), ('robot', 'it')]\n"
     ]
    },
    {
     "data": {
      "text/html": [
       "<h3><span style=\"background-color:#d54062\">jason</span> built <span style=\"background-color:#d54062\">jack</span> a <span style=\"background-color:#56556e\">robot</span> , and <span style=\"background-color:#158467\">he</span> gave <span style=\"background-color:#56556e\">it</span> to <span style=\"background-color:#d54062\">him</span> .</h3>"
      ],
      "text/plain": [
       "<IPython.core.display.HTML object>"
      ]
     },
     "metadata": {},
     "output_type": "display_data"
    }
   ],
   "source": [
    "#Example 1\n",
    "text = \"Jason built Jack a robot , and he gave it to him .\".lower()\n",
    "drstxt = '([x,y,z1,u,v,z22],[Jason(x),MALE(x),Jack(y),MALE(y),built(x,z1),robot(z1,y),NONGENDER(z1),HE(u),HIM(v),PRO(u),PRO(v),gave(u,v),It(z22),PRO(z22)])'\n",
    "drstext = expr_read(drstxt)\n",
    "main(drstext)\n",
    "drstext.resolve_anaphora().draw()"
   ]
  },
  {
   "cell_type": "code",
   "execution_count": 19,
   "metadata": {},
   "outputs": [
    {
     "name": "stdout",
     "output_type": "stream",
     "text": [
      "([u,v,x,y,z1],[John(x), MALE(x), Adam(y), MALE(y), met(x,y), HE(u), HIM(v), (u = [x,y,z1,v]), (v = [x,y,z1,u]), ask(u,v), order(u,v), pizza(z1)])\n",
      "john met adam in barista. he asked him to order a pizza\n",
      "\n",
      "Resolved = [('adam', 'he'), ('adam', 'him'), ('john', 'he'), ('john', 'him')]\n"
     ]
    },
    {
     "data": {
      "text/html": [
       "<h3><span style=\"background-color:#d54062\">john</span> met <span style=\"background-color:#d54062\">adam</span> in barista. <span style=\"background-color:#158467\">he</span> asked <span style=\"background-color:#d54062\">him</span> to order a pizza</h3>"
      ],
      "text/plain": [
       "<IPython.core.display.HTML object>"
      ]
     },
     "metadata": {},
     "output_type": "display_data"
    }
   ],
   "source": [
    "#Example 2\n",
    "text = \"John met Adam in Barista. He asked him to order a Pizza\".lower()\n",
    "drstxt = '([x,y,z1,u,v],[John(x),MALE(x),Adam(y),MALE(y),met(x,y),HE(u),HIM(v),PRO(u),PRO(v),ask(u,v),order(u,v),pizza(z1)])'\n",
    "drstext = expr_read(drstxt)\n",
    "print(drstext.simplify().resolve_anaphora())\n",
    "main(drstext)\n",
    "drstext.resolve_anaphora().draw()"
   ]
  },
  {
   "cell_type": "code",
   "execution_count": 20,
   "metadata": {},
   "outputs": [
    {
     "name": "stdout",
     "output_type": "stream",
     "text": [
      "([u,x,y],[John(x), MALE(x), man(y), is(x,y), HE(u), (u = [x,y]), walks(u)])\n",
      "john is a man. he walks bravely\n",
      "\n",
      "Resolved = [('john', 'he')]\n"
     ]
    },
    {
     "data": {
      "text/html": [
       "<h3><span style=\"background-color:#158467\">john</span> is a man. <span style=\"background-color:#158467\">he</span> walks bravely</h3>"
      ],
      "text/plain": [
       "<IPython.core.display.HTML object>"
      ]
     },
     "metadata": {},
     "output_type": "display_data"
    }
   ],
   "source": [
    "#Example 3\n",
    "text = \"John is a man. He walks bravely\".lower()\n",
    "drstxt = '([x,y,u],[John(x),MALE(x),man(y),is(x,y),HE(u),PRO(u),walks(u)])'\n",
    "drstext = expr_read(drstxt)\n",
    "print(drstext.simplify().resolve_anaphora())\n",
    "main(drstext)\n",
    "drstext.resolve_anaphora().draw()"
   ]
  },
  {
   "cell_type": "code",
   "execution_count": null,
   "metadata": {},
   "outputs": [
    {
     "name": "stdout",
     "output_type": "stream",
     "text": [
      "([u,v,x,y,z1],[John(x), MALE(x), Elisa(y), FEMALE(y), met(x,y), SHE(u), HIM(v), (u = [x,y,z1,v]), (v = [x,y,z1,u]), ask(u,v), order(u,v), pizza(z1)])\n",
      "john met elisa in barista. she asked him to order a pizza\n",
      "\n",
      "Resolved = [('elisa', 'she'), ('john', 'him')]\n"
     ]
    },
    {
     "data": {
      "text/html": [
       "<h3><span style=\"background-color:#d54062\">john</span> met <span style=\"background-color:#158467\">elisa</span> in barista. <span style=\"background-color:#158467\">she</span> asked <span style=\"background-color:#d54062\">him</span> to order a pizza</h3>"
      ],
      "text/plain": [
       "<IPython.core.display.HTML object>"
      ]
     },
     "metadata": {},
     "output_type": "display_data"
    }
   ],
   "source": [
    "#Example 4\n",
    "text = \"John met elisa in Barista. She asked him to order a Pizza\".lower()\n",
    "drstxt = '([x,y,z1,u,v],[John(x),MALE(x),Elisa(y),FEMALE(y),met(x,y),SHE(u),HIM(v),PRO(u),PRO(v),ask(u,v),order(u,v),pizza(z1)])'\n",
    "drstext = expr_read(drstxt)\n",
    "print(drstext.simplify().resolve_anaphora())\n",
    "main(drstext)\n",
    "drstext.resolve_anaphora().draw()"
   ]
  },
  {
   "cell_type": "code",
   "execution_count": null,
   "metadata": {},
   "outputs": [],
   "source": [
    "#Example 5\n",
    "text=\"The sniper shot the terrorist because he was dangerous\".lower()\n",
    "drstxt = '([x,y,u],[Sniper(x),MALE(x),Terrorist(y),MALE(y),shot(x,y),HE(u),PRO(u),dangerous(u)])'\n",
    "drstext = expr_read(drstxt)\n",
    "print(drstext.simplify().resolve_anaphora())\n",
    "main(drstext)\n",
    "drstext.resolve_anaphora().draw()"
   ]
  },
  {
   "cell_type": "code",
   "execution_count": null,
   "metadata": {},
   "outputs": [],
   "source": [
    "#Example 6\n",
    "text=\"The sniper shot the terrorist because he was ordered to\".lower()\n",
    "drstxt = '([x,y,u],[Sniper(x),MALE(x),Terrorist(y),MALE(y),shot(x,y),HE(u),PRO(u),order(u)])'\n",
    "drstext = expr_read(drstxt)\n",
    "print(drstext.simplify().resolve_anaphora())\n",
    "main(drstext)\n",
    "drstext.resolve_anaphora().draw()"
   ]
  },
  {
   "cell_type": "code",
   "execution_count": null,
   "metadata": {},
   "outputs": [],
   "source": [
    "#Example 7\n",
    "text = \"Angus owns a dog . It bit Mia\".lower()\n",
    "drstxt = '([x,z33,z36,z37],[Angus(x),MALE(x),dog(z33),NONGENDER(z33), own(x,z33),It(z37), PRO(z37), Mia(z36),FEMALE(z36) bite(z37,z36)])'\n",
    "drstext = expr_read(drstxt)\n",
    "print(drstext.simplify().resolve_anaphora())\n",
    "main(drstext)\n",
    "drstext.resolve_anaphora().draw()"
   ]
  },
  {
   "cell_type": "code",
   "execution_count": null,
   "metadata": {},
   "outputs": [],
   "source": []
  },
  {
   "cell_type": "code",
   "execution_count": null,
   "metadata": {},
   "outputs": [],
   "source": []
  },
  {
   "cell_type": "code",
   "execution_count": null,
   "metadata": {},
   "outputs": [],
   "source": [
    " "
   ]
  },
  {
   "cell_type": "code",
   "execution_count": null,
   "metadata": {},
   "outputs": [],
   "source": []
  },
  {
   "cell_type": "code",
   "execution_count": null,
   "metadata": {},
   "outputs": [],
   "source": []
  },
  {
   "cell_type": "code",
   "execution_count": null,
   "metadata": {},
   "outputs": [],
   "source": []
  },
  {
   "cell_type": "code",
   "execution_count": null,
   "metadata": {},
   "outputs": [],
   "source": [
    "# def resolveDRSAnaphora(drsEntityDict,text):\n",
    "#     resolveStack = []\n",
    "#     for k in drsEntityDict.keys():\n",
    "#         properties = [elements.lower() for elements in drsEntityDict[k]]\n",
    "#         if set(['nn','nnp','b-gpe','b-person']).intersection(set(properties)) \\\n",
    "#             and set(['male','female']).intersection(set(properties)):\n",
    "            \n",
    "            \n",
    "#             for key in drsEntityDict.keys():\n",
    "#                 distanceNNP = list(filter(lambda x : x.startswith('distfrom'),drsEntityDict[k]))\n",
    "#                 prop = [ele.lower() for ele in drsEntityDict[key]]\n",
    "#                 if 'prp' in prop:\n",
    "#                     for dist in distanceNNP:\n",
    "#                         if prop[0] in male_sin_sub and prop[0] in dist:\n",
    "#                             #resolveStack.append((properties[0],prop[0],dist))\n",
    "#                             resolveStack.append((properties[0],prop[0]))\n",
    "                            \n",
    "#                         elif prop[0] in male_sin_obj and prop[0] in dist:\n",
    "#                             #resolveStack.append((properties[0],prop[0],dist))\n",
    "#                             resolveStack.append((properties[0],prop[0]))\n",
    "                            \n",
    "#                         elif prop[0] in female_sin_obj and prop[0] in dist:\n",
    "#                             #resolveStack.append((properties[0],prop[0],dist))\n",
    "#                             resolveStack.append((properties[0],prop[0]))\n",
    "                            \n",
    "#                         elif prop[0] in female_sin_sub and prop[0] in dist:\n",
    "#                             #resolveStack.append((properties[0],prop[0],dist))\n",
    "#                             resolveStack.append((properties[0],prop[0]))                            \n",
    "            \n",
    "#         elif set(['nn','o']).intersection(set(properties)) and set(['nongender']).intersection(set(properties)):\n",
    "#             for key in drsEntityDict.keys():\n",
    "#                 distanceNNP = list(filter(lambda x:x.startswith('distfrom'),drsEntityDict[k]))\n",
    "#                 prop = [ele.lower() for ele in drsEntityDict[key]]\n",
    "#                 if 'prp' in prop:\n",
    "#                     for dist in distanceNNP:\n",
    "#                         if prop[0] in nongender and prop[0] in dist:\n",
    "#                             #resolveStack.append((properties[0],prop[0],dist))\n",
    "#                             resolveStack.append((properties[0],prop[0]))\n",
    "                            \n",
    "    \n",
    "#     newresolveStack =[]\n",
    "#     for x in resolveStack:\n",
    "#         if getGender(drsEntityDict,text,x[0]) == 'male' and (x[1] in male_sin_sub or x[1] in male_sin_obj):\n",
    "#             newresolveStack.append(x)\n",
    "#         elif getGender(drsEntityDict,text,x[0]) == 'female' and (x[1] in female_sin_sub or x[1] in female_sin_obj):\n",
    "#             newresolveStack.append(x)\n",
    "#         elif getGender(drsEntityDict,text,x[0]) == 'nongender' and (x[1] in nongender):\n",
    "#             newresolveStack.append(x)\n",
    "            \n",
    "#     return newresolveStack\n"
   ]
  }
 ],
 "metadata": {
  "kernelspec": {
   "display_name": "Python 3",
   "language": "python",
   "name": "python3"
  },
  "language_info": {
   "codemirror_mode": {
    "name": "ipython",
    "version": 3
   },
   "file_extension": ".py",
   "mimetype": "text/x-python",
   "name": "python",
   "nbconvert_exporter": "python",
   "pygments_lexer": "ipython3",
   "version": "3.7.4"
  }
 },
 "nbformat": 4,
 "nbformat_minor": 2
}
